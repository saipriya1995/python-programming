{
 "cells": [
  {
   "cell_type": "code",
   "execution_count": 16,
   "metadata": {},
   "outputs": [
    {
     "name": "stdout",
     "output_type": "stream",
     "text": [
      "28.2743338823\n",
      "18.8495559215\n"
     ]
    }
   ],
   "source": [
    "import math\n",
    "class Circle:\n",
    "  \n",
    "    def Area(self,r):\n",
    "        return math.pi*r*r\n",
    "    def perimeter(self,r):    \n",
    "        return 2*math.pi*r\n",
    "cl=Circle()\n",
    "print (cl.Area(3))\n",
    "print (cl.perimeter(3))"
   ]
  },
  {
   "cell_type": "code",
   "execution_count": 21,
   "metadata": {},
   "outputs": [
    {
     "ename": "IndentationError",
     "evalue": "unindent does not match any outer indentation level (<ipython-input-21-42bb6f472e4a>, line 6)",
     "output_type": "error",
     "traceback": [
      "\u001b[1;36m  File \u001b[1;32m\"<ipython-input-21-42bb6f472e4a>\"\u001b[1;36m, line \u001b[1;32m6\u001b[0m\n\u001b[1;33m    def Area(self):\u001b[0m\n\u001b[1;37m                   ^\u001b[0m\n\u001b[1;31mIndentationError\u001b[0m\u001b[1;31m:\u001b[0m unindent does not match any outer indentation level\n"
     ]
    }
   ],
   "source": [
    "import math\n",
    "class Circle:\n",
    "      def __init__(self,r):\n",
    "            self.r=r\n",
    "            \n",
    "        def Area(self):\n",
    "        return math.pi*self.r*self.r\n",
    "        def perimeter(self):    \n",
    "        return 2*math.pi*self.r\n",
    "c1=Circle()\n",
    " c1.Area(3)\n",
    "c1.perimeter(3)\n",
    "c2=Circle()\n",
    "c2.Area"
   ]
  },
  {
   "cell_type": "code",
   "execution_count": 27,
   "metadata": {},
   "outputs": [
    {
     "ename": "AttributeError",
     "evalue": "mi instance has no attribute 'adv1'",
     "output_type": "error",
     "traceback": [
      "\u001b[1;31m---------------------------------------------------------------------------\u001b[0m",
      "\u001b[1;31mAttributeError\u001b[0m                            Traceback (most recent call last)",
      "\u001b[1;32m<ipython-input-27-1f0099450791>\u001b[0m in \u001b[0;36m<module>\u001b[1;34m()\u001b[0m\n\u001b[0;32m      7\u001b[0m         \u001b[1;32mprint\u001b[0m\u001b[1;33m(\u001b[0m\u001b[1;34m\"camera good \"\u001b[0m\u001b[1;33m)\u001b[0m\u001b[1;33m\u001b[0m\u001b[0m\n\u001b[0;32m      8\u001b[0m \u001b[0mm\u001b[0m\u001b[1;33m=\u001b[0m\u001b[0mmi\u001b[0m\u001b[1;33m(\u001b[0m\u001b[1;33m)\u001b[0m\u001b[1;33m\u001b[0m\u001b[0m\n\u001b[1;32m----> 9\u001b[1;33m \u001b[0mm\u001b[0m\u001b[1;33m.\u001b[0m\u001b[0madv1\u001b[0m\u001b[1;33m(\u001b[0m\u001b[1;33m)\u001b[0m\u001b[1;33m\u001b[0m\u001b[0m\n\u001b[0m",
      "\u001b[1;31mAttributeError\u001b[0m: mi instance has no attribute 'adv1'"
     ]
    }
   ],
   "source": [
    "import math\n",
    "class mi:\n",
    "    def adv(self):\n",
    "        print(\"camera good \")\n",
    "class vivo(mi):\n",
    "    def adv1(self):\n",
    "        print(\"camera good \")\n",
    "m=mi()\n",
    "m.adv1()"
   ]
  },
  {
   "cell_type": "code",
   "execution_count": 32,
   "metadata": {},
   "outputs": [
    {
     "name": "stdout",
     "output_type": "stream",
     "text": [
      "camera good 1\n"
     ]
    }
   ],
   "source": [
    "import math\n",
    "class mi:\n",
    "    def adv(self):\n",
    "        print(\"camera good \")\n",
    "class vivo(mi):\n",
    "    def adv(self):\n",
    "        print(\"camera good 1\")\n",
    "class oppo(vivo):\n",
    "    def adv(self):\n",
    "        print(\"camera good 2\")\n",
    "m=vivo()\n",
    "m.adv()"
   ]
  },
  {
   "cell_type": "code",
   "execution_count": 33,
   "metadata": {},
   "outputs": [
    {
     "name": "stdout",
     "output_type": "stream",
     "text": [
      "camera good \n"
     ]
    }
   ],
   "source": [
    "import math\n",
    "class mi:\n",
    "    def adv(self):\n",
    "        print(\"camera good \")\n",
    "class vivo:\n",
    "    def adv1(self):\n",
    "        print(\"camera good 1\")\n",
    "class oppo(vivo,mi):\n",
    "    def adv2(self):\n",
    "        print(\"camera good 2\")\n",
    "m=oppo()\n",
    "m.adv()"
   ]
  },
  {
   "cell_type": "code",
   "execution_count": 36,
   "metadata": {},
   "outputs": [
    {
     "name": "stdout",
     "output_type": "stream",
     "text": [
      "camera good 1\n"
     ]
    }
   ],
   "source": [
    "import math\n",
    "class mi:\n",
    "    def adv(self):\n",
    "        print(\"camera good \")\n",
    "class vivo(mi):\n",
    "    def adv1(self):\n",
    "        print(\"camera good 1\")\n",
    "class oppo(mi):\n",
    "    def adv2(self):\n",
    "        print(\"camera good 2\")\n",
    "m=vivo()\n",
    "m.adv1()"
   ]
  },
  {
   "cell_type": "code",
   "execution_count": 40,
   "metadata": {},
   "outputs": [
    {
     "name": "stdout",
     "output_type": "stream",
     "text": [
      "('helloo...', '123')\n"
     ]
    }
   ],
   "source": [
    "def printinfo(self):\n",
    "    print(\"helloo...\")\n",
    "def printinfo(name):\n",
    "    print(\"helloo...\", name)\n",
    "\n",
    "printinfo(\"123\")"
   ]
  },
  {
   "cell_type": "code",
   "execution_count": 13,
   "metadata": {},
   "outputs": [
    {
     "name": "stdout",
     "output_type": "stream",
     "text": [
      "enter the output1234\n",
      "('camera good 1', 1234)\n"
     ]
    }
   ],
   "source": [
    "import math\n",
    "class mi:\n",
    "    a=int(input(\"enter the output\"))\n",
    "    def adv(self):\n",
    "        b=123443543543543\n",
    "        print(\"camera good \",mi.a)\n",
    "        \n",
    "class vivo(mi):\n",
    "    def adv1(self):\n",
    "        print(\"camera good 1\",mi.a)\n",
    "m=vivo()\n",
    "m.adv1()"
   ]
  },
  {
   "cell_type": "code",
   "execution_count": 11,
   "metadata": {},
   "outputs": [
    {
     "name": "stdout",
     "output_type": "stream",
     "text": [
      "enter the output123\n",
      "123\n"
     ]
    }
   ],
   "source": [
    "class mi:\n",
    "    a=int(input(\"enter the output\"))\n",
    "print(mi.a)   "
   ]
  },
  {
   "cell_type": "code",
   "execution_count": 21,
   "metadata": {},
   "outputs": [],
   "source": [
    "class Simple:\n",
    "    def __init__(self, s):\n",
    "        print(\"inside the simple constructor\")\n",
    "        self.s = s\n",
    "\n",
    "    def show(self):\n",
    "        print(self.s)\n",
    "\n",
    "    def showMsg(self, msg):\n",
    "        print(msg + ':', self.show())"
   ]
  },
  {
   "cell_type": "code",
   "execution_count": 47,
   "metadata": {},
   "outputs": [
    {
     "ename": "IndentationError",
     "evalue": "unindent does not match any outer indentation level (<ipython-input-47-f0662695a31b>, line 9)",
     "output_type": "error",
     "traceback": [
      "\u001b[1;36m  File \u001b[1;32m\"<ipython-input-47-f0662695a31b>\"\u001b[1;36m, line \u001b[1;32m9\u001b[0m\n\u001b[1;33m    def show(self):\u001b[0m\n\u001b[1;37m                   ^\u001b[0m\n\u001b[1;31mIndentationError\u001b[0m\u001b[1;31m:\u001b[0m unindent does not match any outer indentation level\n"
     ]
    }
   ],
   "source": [
    "# define parent class Company\n",
    "class Company:\n",
    "    # constructor\n",
    "    def __init__(self, name, proj):\n",
    "        self.name = name      # name(name of company) is public\n",
    "        self._proj = proj     # proj(current project) is protected\n",
    "    \n",
    "    # public function to show the details\n",
    "       def show(self):\n",
    "        print(\"The code of the company is = \",self.name)\n",
    "\n",
    "# define child class Emp\n",
    "class Emp(Company):\n",
    "    # constructor\n",
    "    def __init__(self, eName, sal, cName, proj):\n",
    "        # calling parent class constructor\n",
    "        Company.__init__(self, cName, proj)\n",
    "        self.name = eName   # public member variable\n",
    "        self.__sal = sal    # private member variable\n",
    "    \n",
    "    # public function to show salary details\n",
    "    def show_sal(self):\n",
    "        print(\"The salary of \",self.name,\" is \",self.__sal,)\n",
    "\n",
    "# creating instance of Company class\n",
    "c = Company(\"Stark Industries\", \"Mark 4\")\n",
    "# creating instance of Employee class\n",
    "e = Emp(\"Steve\", 9999999, c.name, c._proj)\n",
    "\n",
    "print(\"Welcome to \", c.name)\n",
    "m=Company(a,4,ab)\n",
    "n=Emp()\n",
    "n.show_sal(a,1,s,ds,dfdf)\n",
    "emp = Emp(\"Ironman\", 999000)\n",
    " emp.show_sal()\n"
   ]
  },
  {
   "cell_type": "code",
   "execution_count": 48,
   "metadata": {},
   "outputs": [
    {
     "ename": "IndentationError",
     "evalue": "unexpected indent (<ipython-input-48-c9d9cb16aeed>, line 2)",
     "output_type": "error",
     "traceback": [
      "\u001b[1;36m  File \u001b[1;32m\"<ipython-input-48-c9d9cb16aeed>\"\u001b[1;36m, line \u001b[1;32m2\u001b[0m\n\u001b[1;33m    emp.show_sal\u001b[0m\n\u001b[1;37m    ^\u001b[0m\n\u001b[1;31mIndentationError\u001b[0m\u001b[1;31m:\u001b[0m unexpected indent\n"
     ]
    }
   ],
   "source": [
    "emp = Emp(\"Ironman\", 999000)\n",
    " emp.show_sal\n"
   ]
  },
  {
   "cell_type": "code",
   "execution_count": 49,
   "metadata": {},
   "outputs": [
    {
     "name": "stdout",
     "output_type": "stream",
     "text": [
      "4\n",
      "5\n",
      "9\n"
     ]
    }
   ],
   "source": [
    "import math\n",
    " \n",
    "class Circle:\n",
    " \n",
    "    def __init__(self, radius):\n",
    "        self.__radius = radius\n",
    " \n",
    "    def setRadius(self, radius):\n",
    "        self.__radius = radius\n",
    " \n",
    "    def getRadius(self):\n",
    "        return self.__radius\n",
    " \n",
    "    def area(self):\n",
    "        return math.pi * self.__radius ** 2\n",
    " \n",
    "    def __add__(self, another_circle):\n",
    "        return Circle( self.__radius + another_circle.__radius )\n",
    " \n",
    "c1 = Circle(4)\n",
    "print(c1.getRadius())\n",
    " \n",
    "c2 = Circle(5)\n",
    "print(c2.getRadius())\n",
    " \n",
    "c3 = c1 + c2 # This became possible because we have overloaded + operator by adding a    method named __add__\n",
    "print(c3.getRadius())"
   ]
  },
  {
   "cell_type": "code",
   "execution_count": null,
   "metadata": {},
   "outputs": [],
   "source": []
  },
  {
   "cell_type": "code",
   "execution_count": null,
   "metadata": {},
   "outputs": [],
   "source": []
  }
 ],
 "metadata": {
  "kernelspec": {
   "display_name": "Python 2",
   "language": "python",
   "name": "python2"
  },
  "language_info": {
   "codemirror_mode": {
    "name": "ipython",
    "version": 2
   },
   "file_extension": ".py",
   "mimetype": "text/x-python",
   "name": "python",
   "nbconvert_exporter": "python",
   "pygments_lexer": "ipython2",
   "version": "2.7.15"
  }
 },
 "nbformat": 4,
 "nbformat_minor": 2
}
